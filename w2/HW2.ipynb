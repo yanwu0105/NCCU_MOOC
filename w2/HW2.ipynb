{
 "cells": [
  {
   "cell_type": "markdown",
   "metadata": {},
   "source": [
    "# 第一題【猜數字遊戲】"
   ]
  },
  {
   "cell_type": "markdown",
   "metadata": {},
   "source": [
    "### 電腦由 1 到 100 「想」一個數字。你開始猜電腦想的數字, 太大或大小電腦會告訴你, 直到猜對。"
   ]
  },
  {
   "cell_type": "code",
   "execution_count": 30,
   "metadata": {},
   "outputs": [
    {
     "name": "stdout",
     "output_type": "stream",
     "text": [
      "Populating the interactive namespace from numpy and matplotlib\n",
      "請猜一個1～100之間的數字: 99\n",
      "The number < 99\n",
      "再猜一個數字: 50\n",
      "The number > 50\n",
      "再猜一個數字: 78\n",
      "The number < 78\n",
      "再猜一個數字: 66\n",
      "The number > 66\n",
      "再猜一個數字: 70\n",
      "The number > 70\n",
      "再猜一個數字: 77\n",
      "The number < 77\n",
      "再猜一個數字: 75\n",
      "The number < 75\n",
      "再猜一個數字: 76\n",
      "The number < 76\n",
      "再猜一個數字: 73\n",
      "The number < 73\n",
      "再猜一個數字: 72\n",
      "恭喜答對了!\n"
     ]
    }
   ],
   "source": [
    "%pylab inline\n",
    "num = randint(1,101)\n",
    "test = input(\"請猜一個1～100之間的數字: \")\n",
    "while num != int(test):\n",
    "    if num < int(test):\n",
    "        print(\"The number < \" + test)\n",
    "    elif num > int(test):\n",
    "        print(\"The number > \" + test)\n",
    "    test = input(\"再猜一個數字: \")\n",
    "print(\"恭喜答對了!\")"
   ]
  },
  {
   "cell_type": "markdown",
   "metadata": {},
   "source": [
    "# 第二題【感恩讚嘆機器人】"
   ]
  },
  {
   "cell_type": "markdown",
   "metadata": {},
   "source": [
    "請依照老師本週影片的作法，\n",
    "製作出感恩讚嘆機器人，\n",
    "也就是回應的格式一律是：\n",
    "「感恩ＯＯ，讚嘆ＯＯ。」\n",
    "\n",
    "範例：\n",
    "\n",
    "「嗨，今天天氣很好，要一起去洞爺湖喝茶吃魚嗎？」\n",
    "\n",
    "『感恩炎龍，讚嘆炎龍。』"
   ]
  },
  {
   "cell_type": "code",
   "execution_count": 2,
   "metadata": {},
   "outputs": [
    {
     "name": "stdout",
     "output_type": "stream",
     "text": [
      "今天發生了甚麼事: 今天好類\n",
      "感恩帥哥，讚嘆帥哥。\n",
      "今天發生了甚麼事: bye\n",
      "感恩帥哥，讚嘆帥哥。\n"
     ]
    }
   ],
   "source": [
    "message = \"\"\n",
    "while message != \"bye\":\n",
    "    message = input(\"今天發生了甚麼事: \")\n",
    "    print(\"感恩帥哥，讚嘆帥哥。\")"
   ]
  },
  {
   "cell_type": "markdown",
   "metadata": {},
   "source": [
    "# 第三題 【寫個函數讓字串倒過來排】"
   ]
  },
  {
   "cell_type": "code",
   "execution_count": 28,
   "metadata": {
    "collapsed": true
   },
   "outputs": [],
   "source": [
    "def rewrite(x):\n",
    "    return x[::-1]"
   ]
  },
  {
   "cell_type": "code",
   "execution_count": 29,
   "metadata": {},
   "outputs": [
    {
     "data": {
      "text/plain": [
       "'哥帥大是我'"
      ]
     },
     "execution_count": 29,
     "metadata": {},
     "output_type": "execute_result"
    }
   ],
   "source": [
    "rewrite(\"我是大帥哥\")"
   ]
  },
  {
   "cell_type": "code",
   "execution_count": 26,
   "metadata": {
    "collapsed": true
   },
   "outputs": [],
   "source": [
    "x = \"\"\n",
    "def rewrite(x):\n",
    "    x = input(\"請輸入想要倒敘的字串: \")\n",
    "    return x[::-1]"
   ]
  },
  {
   "cell_type": "code",
   "execution_count": 27,
   "metadata": {},
   "outputs": [
    {
     "name": "stdout",
     "output_type": "stream",
     "text": [
      "請輸入想要倒敘的字串: 我是大帥哥\n"
     ]
    },
    {
     "data": {
      "text/plain": [
       "'哥帥大是我'"
      ]
     },
     "execution_count": 27,
     "metadata": {},
     "output_type": "execute_result"
    }
   ],
   "source": [
    "rewrite(x)"
   ]
  },
  {
   "cell_type": "markdown",
   "metadata": {},
   "source": [
    "# 挑戰題一【天干地支】"
   ]
  },
  {
   "cell_type": "code",
   "execution_count": 34,
   "metadata": {},
   "outputs": [
    {
     "ename": "SyntaxError",
     "evalue": "invalid syntax (<ipython-input-34-5e0bee8fdb35>, line 2)",
     "output_type": "error",
     "traceback": [
      "\u001b[1;36m  File \u001b[1;32m\"<ipython-input-34-5e0bee8fdb35>\"\u001b[1;36m, line \u001b[1;32m2\u001b[0m\n\u001b[1;33m    地支 = [\"子\",\"丑\",\"寅\",\"卯\",\"辰,\"巳\"午未申酉戌亥\u001b[0m\n\u001b[1;37m                              ^\u001b[0m\n\u001b[1;31mSyntaxError\u001b[0m\u001b[1;31m:\u001b[0m invalid syntax\n"
     ]
    }
   ],
   "source": [
    "天干 = [\"甲\",\"乙\",\"丙\",\"丁\",\"戊\",\"己\",\"庚\",\"辛\",\"壬\",\"癸\"]\n",
    "地支 = [\"子\",\"丑\",\"寅\",\"卯\",\"辰\",\"巳\",\"午\",\"未\",\"申\",\"酉\",\"戌\",\"亥\"]\n"
   ]
  },
  {
   "cell_type": "code",
   "execution_count": null,
   "metadata": {
    "collapsed": true
   },
   "outputs": [],
   "source": []
  }
 ],
 "metadata": {
  "kernelspec": {
   "display_name": "Python 3",
   "language": "python",
   "name": "python3"
  },
  "language_info": {
   "codemirror_mode": {
    "name": "ipython",
    "version": 3
   },
   "file_extension": ".py",
   "mimetype": "text/x-python",
   "name": "python",
   "nbconvert_exporter": "python",
   "pygments_lexer": "ipython3",
   "version": "3.6.2"
  }
 },
 "nbformat": 4,
 "nbformat_minor": 2
}
