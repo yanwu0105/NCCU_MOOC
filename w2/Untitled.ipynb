{
 "cells": [
  {
   "cell_type": "code",
   "execution_count": 1,
   "metadata": {
    "collapsed": true
   },
   "outputs": [],
   "source": [
    "%matplotlib inline\n",
    "import numpy as np\n",
    "import matplotlib.pyplot as plt"
   ]
  },
  {
   "cell_type": "markdown",
   "metadata": {},
   "source": [
    "# 第一題：\n",
    "題目：給定一個矩陣m，裡面的值都大於0。\n",
    "請將矩陣m裡大於等於1的數字都變成1，小於1的變成0。\n",
    " \n",
    "m = np.array([[0,1,10],[2,6,7]])\n",
    " \n",
    "提示：使用巢狀迴圈(nested loop)加判斷式"
   ]
  },
  {
   "cell_type": "code",
   "execution_count": 2,
   "metadata": {
    "collapsed": true
   },
   "outputs": [],
   "source": [
    "m = np.array([[0,1,10],[2,6,7]])"
   ]
  },
  {
   "cell_type": "code",
   "execution_count": 3,
   "metadata": {},
   "outputs": [
    {
     "data": {
      "text/plain": [
       "array([[ 0,  1, 10],\n",
       "       [ 2,  6,  7]])"
      ]
     },
     "execution_count": 3,
     "metadata": {},
     "output_type": "execute_result"
    }
   ],
   "source": [
    "m"
   ]
  },
  {
   "cell_type": "code",
   "execution_count": 6,
   "metadata": {},
   "outputs": [
    {
     "data": {
      "text/plain": [
       "array([ 1, 10,  2,  6,  7])"
      ]
     },
     "execution_count": 6,
     "metadata": {},
     "output_type": "execute_result"
    }
   ],
   "source": [
    "m[m>=1]"
   ]
  },
  {
   "cell_type": "code",
   "execution_count": 29,
   "metadata": {},
   "outputs": [
    {
     "data": {
      "text/plain": [
       "array([[0, 1, 1],\n",
       "       [1, 1, 1]])"
      ]
     },
     "execution_count": 29,
     "metadata": {},
     "output_type": "execute_result"
    }
   ],
   "source": [
    "result = []\n",
    "m.shape = (6,1)\n",
    "for i in m:\n",
    "    if i >=1:\n",
    "        result.append(1)\n",
    "    else:\n",
    "        result.append(0)\n",
    "result = np.array(result)\n",
    "result.shape = (2,3)\n",
    "result"
   ]
  },
  {
   "cell_type": "markdown",
   "metadata": {},
   "source": [
    "# 第二題：\n",
    "有A,B,C三個班級，每班皆有10個學生，期中考結束後，老師希望計算各班級每位學生的加權平均成績。\n",
    " \n",
    "請隨機產生3個班級的成績單,每班10人,共五科,權重為weights=[0.25,0.25,0.25,0.15,0.10]。\n",
    "請算出班級加權平均成績，並以一個array輸出。"
   ]
  },
  {
   "cell_type": "code",
   "execution_count": 60,
   "metadata": {},
   "outputs": [],
   "source": [
    "#隨機產生3個班級的成績\n",
    "A = np.random.randint(0,101,50)\n",
    "B = np.random.randint(0,101,50)\n",
    "C = np.random.randint(0,101,50)\n",
    "A.shape = (10,5)\n",
    "B.shape = (10,5)\n",
    "C.shape = (10,5)\n",
    "#權重\n",
    "weights=[0.25,0.25,0.25,0.15,0.10]"
   ]
  },
  {
   "cell_type": "code",
   "execution_count": 63,
   "metadata": {},
   "outputs": [],
   "source": [
    "A_grades = np.dot(A,weights)\n",
    "B_grades = np.dot(B,weights)\n",
    "C_grades = np.dot(C,weights)"
   ]
  },
  {
   "cell_type": "code",
   "execution_count": 95,
   "metadata": {},
   "outputs": [],
   "source": [
    "fin_A_grades = sum(A_grades)/10\n",
    "fin_B_grades = sum(B_grades)/10\n",
    "fin_C_grades = sum(C_grades)/10"
   ]
  },
  {
   "cell_type": "code",
   "execution_count": 96,
   "metadata": {},
   "outputs": [],
   "source": [
    "allclass = []\n",
    "allclass.append(fin_A_grades)\n",
    "allclass.append(fin_B_grades)\n",
    "allclass.append(fin_C_grades)"
   ]
  },
  {
   "cell_type": "code",
   "execution_count": 99,
   "metadata": {},
   "outputs": [
    {
     "data": {
      "text/plain": [
       "array([ 46.535,  51.71 ,  49.185])"
      ]
     },
     "execution_count": 99,
     "metadata": {},
     "output_type": "execute_result"
    }
   ],
   "source": [
    "allclass = np.array(allclass)\n",
    "allclass"
   ]
  },
  {
   "cell_type": "markdown",
   "metadata": {},
   "source": [
    "# 挑戰題一：\n",
    "請定義一個全班高微成績的函式，輸入是一個(3, 30, 3)的array，  \n",
    "表示3個班級中30位學生的成績(小考，期中考，期末考)  。\n",
    "\n",
    "目標輸出則是一個(3, 30, 1)的array，表示所有學生的期末成績，\n",
    "期末成績計算方式如下：\n",
    "\n",
    "1. 小考20%，期中考35%，期末考45%  \n",
    "2. 期中考40%，期末考60%。  \n",
    "擇優作為期末成績\n",
    " \n",
    "Hint\n",
    "* 可以用雙重for迴圈 分別跑過班級跟人\n",
    "* 可以先設一個array裝算出來的成績\n",
    "* 記得要用return \n",
    "* 請做個測試，檢驗你的結果，方便同學評分。"
   ]
  },
  {
   "cell_type": "code",
   "execution_count": 125,
   "metadata": {},
   "outputs": [],
   "source": [
    "def grade():\n",
    "    classgrade = []\n",
    "    while len(classgrade) < 3:\n",
    "        student = []\n",
    "        while len(student) < 30:\n",
    "            person = []\n",
    "            while len(person) < 3:\n",
    "                a = input(\"小考成績： \")\n",
    "                person.append(a)\n",
    "                b = input(\"期中考成績： \")\n",
    "                person.append(b)\n",
    "                c = input(\"期末考成績： \")\n",
    "                person.append(c)\n",
    "                student.append(person)\n",
    "            classgrade.append(student)"
   ]
  },
  {
   "cell_type": "code",
   "execution_count": 165,
   "metadata": {},
   "outputs": [],
   "source": [
    "def math_grade():\n",
    "    classgrade = []\n",
    "    while len(classgrade) < 3:\n",
    "        student = []\n",
    "        while len(student) < 30:\n",
    "            person = []\n",
    "            while len(person) < 3:\n",
    "                a = input(\"小考成績： \")\n",
    "                person.append(a)\n",
    "                b = input(\"期中考成績： \")\n",
    "                person.append(b)\n",
    "                c = input(\"期末考成績： \")\n",
    "                person.append(c)\n",
    "                student.append(person)\n",
    "            classgrade.append(student)\n",
    "            classgrade = np.array(classgrade)\n",
    "    for i in range(3):\n",
    "        for j in range(30):\n",
    "            a = classgrade[i][j]\n",
    "            a_plan = np.dot(a,plan_a)\n",
    "            b_plan = np.dot(b,plan_b)\n",
    "            fin_person = []\n",
    "            while len(fin_person) < 30:\n",
    "                if a_plan >= b_plan:\n",
    "                    fin_person.append(a_plan)\n",
    "                else:\n",
    "                    fin_person.append(b_plan)\n",
    "        fin_class = []\n",
    "        while len(fin_class) < 3:\n",
    "            fin_class.append(fin_person)\n",
    "    fin_class = np.array(fin_class)\n",
    "    fin_class\n",
    "    \n",
    "            "
   ]
  },
  {
   "cell_type": "code",
   "execution_count": 166,
   "metadata": {},
   "outputs": [
    {
     "name": "stdout",
     "output_type": "stream",
     "text": [
      "小考成績： 50\n",
      "期中考成績： 60\n",
      "期末考成績： 100\n",
      "小考成績： 20\n",
      "期中考成績： 0\n",
      "期末考成績： 30\n",
      "小考成績： 50\n",
      "期中考成績： 80\n",
      "期末考成績： 90\n",
      "小考成績： 90\n",
      "期中考成績： 100\n",
      "期末考成績： 100\n",
      "小考成績： 20\n",
      "期中考成績： 30\n",
      "期末考成績： 30\n",
      "小考成績： 30\n",
      "期中考成績： 40\n",
      "期末考成績： 50\n",
      "小考成績： 50\n",
      "期中考成績： 60\n",
      "期末考成績： 60\n",
      "小考成績： 61\n",
      "期中考成績： 78\n",
      "期末考成績： 68\n",
      "小考成績： 90\n",
      "期中考成績： 86\n",
      "期末考成績： 88\n",
      "小考成績： 85\n",
      "期中考成績： 95\n",
      "期末考成績： 100\n",
      "小考成績： 56\n",
      "期中考成績： 62\n",
      "期末考成績： 34\n",
      "小考成績： 55\n",
      "期中考成績： 75\n",
      "期末考成績： 88\n",
      "小考成績： 85\n",
      "期中考成績： 66\n",
      "期末考成績： 99\n",
      "小考成績： 100\n",
      "期中考成績： 99\n",
      "期末考成績： 44\n",
      "小考成績： 80\n",
      "期中考成績： 80\n",
      "期末考成績： 80\n",
      "小考成績： 90\n",
      "期中考成績： 90\n",
      "期末考成績： 90\n",
      "小考成績： 90\n",
      "期中考成績： 90\n",
      "期末考成績： 909\n",
      "小考成績： 100\n",
      "期中考成績： 20\n",
      "期末考成績： 100\n",
      "小考成績： 100\n",
      "期中考成績： 100\n",
      "期末考成績： 20\n",
      "小考成績： 0\n",
      "期中考成績： 30\n",
      "期末考成績： 20\n",
      "小考成績： 50\n",
      "期中考成績： 50\n",
      "期末考成績： 505\n",
      "小考成績： 50\n",
      "期中考成績： 50\n",
      "期末考成績： 50\n",
      "小考成績： 50\n",
      "期中考成績： 50\n",
      "期末考成績： 505\n",
      "小考成績： 50\n",
      "期中考成績： 50\n",
      "期末考成績： 10\n",
      "小考成績： 10\n",
      "期中考成績： 10\n",
      "期末考成績： 10\n",
      "小考成績： 10\n",
      "期中考成績： 10\n",
      "期末考成績： 10\n",
      "小考成績： 10\n",
      "期中考成績： 10\n",
      "期末考成績： 10\n",
      "小考成績： 10\n",
      "期中考成績： 10\n",
      "期末考成績： 10\n",
      "小考成績： 20\n",
      "期中考成績： 20\n",
      "期末考成績： 20\n",
      "小考成績： 20\n",
      "期中考成績： 20\n",
      "期末考成績： 20\n"
     ]
    },
    {
     "ename": "TypeError",
     "evalue": "Cannot cast array data from dtype('float64') to dtype('<U32') according to the rule 'safe'",
     "output_type": "error",
     "traceback": [
      "\u001b[1;31m---------------------------------------------------------------------------\u001b[0m",
      "\u001b[1;31mTypeError\u001b[0m                                 Traceback (most recent call last)",
      "\u001b[1;32m<ipython-input-166-7d6726ad7a4e>\u001b[0m in \u001b[0;36m<module>\u001b[1;34m()\u001b[0m\n\u001b[1;32m----> 1\u001b[1;33m \u001b[0mmath_grade\u001b[0m\u001b[1;33m(\u001b[0m\u001b[1;33m)\u001b[0m\u001b[1;33m\u001b[0m\u001b[0m\n\u001b[0m",
      "\u001b[1;32m<ipython-input-165-31d322288e92>\u001b[0m in \u001b[0;36mmath_grade\u001b[1;34m()\u001b[0m\n\u001b[0;32m     18\u001b[0m         \u001b[1;32mfor\u001b[0m \u001b[0mj\u001b[0m \u001b[1;32min\u001b[0m \u001b[0mrange\u001b[0m\u001b[1;33m(\u001b[0m\u001b[1;36m30\u001b[0m\u001b[1;33m)\u001b[0m\u001b[1;33m:\u001b[0m\u001b[1;33m\u001b[0m\u001b[0m\n\u001b[0;32m     19\u001b[0m             \u001b[0ma\u001b[0m \u001b[1;33m=\u001b[0m \u001b[0mclassgrade\u001b[0m\u001b[1;33m[\u001b[0m\u001b[0mi\u001b[0m\u001b[1;33m]\u001b[0m\u001b[1;33m[\u001b[0m\u001b[0mj\u001b[0m\u001b[1;33m]\u001b[0m\u001b[1;33m\u001b[0m\u001b[0m\n\u001b[1;32m---> 20\u001b[1;33m             \u001b[0ma_plan\u001b[0m \u001b[1;33m=\u001b[0m \u001b[0mnp\u001b[0m\u001b[1;33m.\u001b[0m\u001b[0mdot\u001b[0m\u001b[1;33m(\u001b[0m\u001b[0ma\u001b[0m\u001b[1;33m,\u001b[0m\u001b[0mplan_a\u001b[0m\u001b[1;33m)\u001b[0m\u001b[1;33m\u001b[0m\u001b[0m\n\u001b[0m\u001b[0;32m     21\u001b[0m             \u001b[0mb_plan\u001b[0m \u001b[1;33m=\u001b[0m \u001b[0mnp\u001b[0m\u001b[1;33m.\u001b[0m\u001b[0mdot\u001b[0m\u001b[1;33m(\u001b[0m\u001b[0mb\u001b[0m\u001b[1;33m,\u001b[0m\u001b[0mplan_b\u001b[0m\u001b[1;33m)\u001b[0m\u001b[1;33m\u001b[0m\u001b[0m\n\u001b[0;32m     22\u001b[0m             \u001b[0mfin_person\u001b[0m \u001b[1;33m=\u001b[0m \u001b[1;33m[\u001b[0m\u001b[1;33m]\u001b[0m\u001b[1;33m\u001b[0m\u001b[0m\n",
      "\u001b[1;31mTypeError\u001b[0m: Cannot cast array data from dtype('float64') to dtype('<U32') according to the rule 'safe'"
     ]
    }
   ],
   "source": [
    "math_grade()"
   ]
  },
  {
   "cell_type": "code",
   "execution_count": 221,
   "metadata": {},
   "outputs": [
    {
     "data": {
      "text/plain": [
       "array([[[ 30.5],\n",
       "        [ 30.5]],\n",
       "\n",
       "       [[ 30.5],\n",
       "        [ 30.5]],\n",
       "\n",
       "       [[ 30.5],\n",
       "        [ 30.5]]])"
      ]
     },
     "execution_count": 221,
     "metadata": {},
     "output_type": "execute_result"
    }
   ],
   "source": [
    "plan_a = np.array([0.2,0.35,0.45])\n",
    "plan_b = np.array([0,0.4,0.6])\n",
    "test = np.array([[[30,40,50],[60,90,50]],\n",
    "                 [[90,90,90],[60,66,60]],\n",
    "                 [[100,20,80],[50,20,30]]])\n",
    "for i in range(0,3) :\n",
    "    a = test[i]\n",
    "    for j in range(0,2) :\n",
    "        a_plan = np.dot(a[j],plan_a)\n",
    "        b_plan = np.dot(a[j],plan_b)\n",
    "        if a_plan >= b_plan:\n",
    "            fin_person = np.array([a_plan])\n",
    "        else:\n",
    "            fin_person = np.array([b_plan])\n",
    "        fin_class = []\n",
    "        while len(fin_class) < 2:\n",
    "            fin_class.append(fin_person)\n",
    "    fin = []\n",
    "    while len(fin) < 3:\n",
    "        fin.append(fin_class)    \n",
    "fin = np.array(fin)\n",
    "fin"
   ]
  },
  {
   "cell_type": "code",
   "execution_count": 193,
   "metadata": {},
   "outputs": [
    {
     "ename": "TypeError",
     "evalue": "Cannot cast array data from dtype('float64') to dtype('<U32') according to the rule 'safe'",
     "output_type": "error",
     "traceback": [
      "\u001b[1;31m---------------------------------------------------------------------------\u001b[0m",
      "\u001b[1;31mTypeError\u001b[0m                                 Traceback (most recent call last)",
      "\u001b[1;32m<ipython-input-193-1e34ab050d71>\u001b[0m in \u001b[0;36m<module>\u001b[1;34m()\u001b[0m\n\u001b[0;32m      2\u001b[0m     \u001b[1;32mfor\u001b[0m \u001b[0mj\u001b[0m \u001b[1;32min\u001b[0m \u001b[0mrange\u001b[0m\u001b[1;33m(\u001b[0m\u001b[1;36m30\u001b[0m\u001b[1;33m)\u001b[0m\u001b[1;33m:\u001b[0m\u001b[1;33m\u001b[0m\u001b[0m\n\u001b[0;32m      3\u001b[0m         \u001b[0ma\u001b[0m \u001b[1;33m=\u001b[0m \u001b[0mclassgrade\u001b[0m\u001b[1;33m[\u001b[0m\u001b[0mi\u001b[0m\u001b[1;33m]\u001b[0m\u001b[1;33m[\u001b[0m\u001b[0mj\u001b[0m\u001b[1;33m]\u001b[0m\u001b[1;33m\u001b[0m\u001b[0m\n\u001b[1;32m----> 4\u001b[1;33m         \u001b[0ma_plan\u001b[0m \u001b[1;33m=\u001b[0m \u001b[0mnp\u001b[0m\u001b[1;33m.\u001b[0m\u001b[0mdot\u001b[0m\u001b[1;33m(\u001b[0m\u001b[0ma\u001b[0m\u001b[1;33m,\u001b[0m\u001b[0mplan_a\u001b[0m\u001b[1;33m)\u001b[0m\u001b[1;33m\u001b[0m\u001b[0m\n\u001b[0m\u001b[0;32m      5\u001b[0m         \u001b[0mb_plan\u001b[0m \u001b[1;33m=\u001b[0m \u001b[0mnp\u001b[0m\u001b[1;33m.\u001b[0m\u001b[0mdot\u001b[0m\u001b[1;33m(\u001b[0m\u001b[0ma\u001b[0m\u001b[1;33m,\u001b[0m\u001b[0mplan_b\u001b[0m\u001b[1;33m)\u001b[0m\u001b[1;33m\u001b[0m\u001b[0m\n\u001b[0;32m      6\u001b[0m         \u001b[0mfin_person\u001b[0m \u001b[1;33m=\u001b[0m \u001b[1;33m[\u001b[0m\u001b[1;33m]\u001b[0m\u001b[1;33m\u001b[0m\u001b[0m\n",
      "\u001b[1;31mTypeError\u001b[0m: Cannot cast array data from dtype('float64') to dtype('<U32') according to the rule 'safe'"
     ]
    }
   ],
   "source": [
    "    for i in range(3):\n",
    "        for j in range(30):\n",
    "            a = classgrade[i][j]\n",
    "            a_plan = np.dot(a,plan_a)\n",
    "            b_plan = np.dot(a,plan_b)\n",
    "            fin_person = []\n",
    "            while len(fin_person) < 30:\n",
    "                if a_plan >= b_plan:\n",
    "                    fin_person.append([a_plan])\n",
    "                else:\n",
    "                    fin_person.append([b_plan])\n",
    "        fin_class = []\n",
    "        while len(fin_class) < 3:\n",
    "            fin_class.append([fin_person])\n",
    "    fin_class = np.array(fin_class)\n",
    "    fin_class"
   ]
  },
  {
   "cell_type": "code",
   "execution_count": 225,
   "metadata": {},
   "outputs": [
    {
     "name": "stdout",
     "output_type": "stream",
     "text": [
      "[[30 40 50]\n",
      " [60 90 50]]\n",
      "[[90 90 90]\n",
      " [60 66 60]]\n",
      "[[100  20  80]\n",
      " [ 50  20  30]]\n"
     ]
    }
   ],
   "source": [
    "test = np.array([[[30,40,50],[60,90,50]],\n",
    "                 [[90,90,90],[60,66,60]],\n",
    "                 [[100,20,80],[50,20,30]]])\n",
    "for i in range(0,3) :\n",
    "    a = test[i]"
   ]
  },
  {
   "cell_type": "code",
   "execution_count": 226,
   "metadata": {},
   "outputs": [
    {
     "ename": "SyntaxError",
     "evalue": "invalid syntax (<ipython-input-226-0a572cab2892>, line 1)",
     "output_type": "error",
     "traceback": [
      "\u001b[1;36m  File \u001b[1;32m\"<ipython-input-226-0a572cab2892>\"\u001b[1;36m, line \u001b[1;32m1\u001b[0m\n\u001b[1;33m    a = [30 40 50]\u001b[0m\n\u001b[1;37m             ^\u001b[0m\n\u001b[1;31mSyntaxError\u001b[0m\u001b[1;31m:\u001b[0m invalid syntax\n"
     ]
    }
   ],
   "source": [
    "a = [30 40 50]"
   ]
  },
  {
   "cell_type": "code",
   "execution_count": null,
   "metadata": {
    "collapsed": true
   },
   "outputs": [],
   "source": []
  }
 ],
 "metadata": {
  "kernelspec": {
   "display_name": "Python 3",
   "language": "python",
   "name": "python3"
  },
  "language_info": {
   "codemirror_mode": {
    "name": "ipython",
    "version": 3
   },
   "file_extension": ".py",
   "mimetype": "text/x-python",
   "name": "python",
   "nbconvert_exporter": "python",
   "pygments_lexer": "ipython3",
   "version": "3.6.2"
  }
 },
 "nbformat": 4,
 "nbformat_minor": 2
}
